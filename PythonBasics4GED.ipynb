{
 "cells": [
  {
   "cell_type": "markdown",
   "metadata": {},
   "source": [
    "# Python Basics for GED \n",
    "(8-9-2018)"
   ]
  },
  {
   "cell_type": "markdown",
   "metadata": {},
   "source": [
    "### Hello World"
   ]
  },
  {
   "cell_type": "markdown",
   "metadata": {},
   "source": [
    "Use the print function display statements on your console."
   ]
  },
  {
   "cell_type": "code",
   "execution_count": 8,
   "metadata": {},
   "outputs": [
    {
     "name": "stdout",
     "output_type": "stream",
     "text": [
      "Hello World!!!\n"
     ]
    }
   ],
   "source": [
    "print(\"Hello World!!!\")"
   ]
  },
  {
   "cell_type": "markdown",
   "metadata": {},
   "source": [
    "## Datatypes and Variables"
   ]
  },
  {
   "cell_type": "code",
   "execution_count": 9,
   "metadata": {},
   "outputs": [],
   "source": [
    "a = 1 # to assign a value to a variable"
   ]
  },
  {
   "cell_type": "markdown",
   "metadata": {},
   "source": [
    "You can reassign said variable with different values of different datatypes"
   ]
  },
  {
   "cell_type": "code",
   "execution_count": 48,
   "metadata": {},
   "outputs": [],
   "source": [
    "a = 2.54 # float\n",
    "a = 'maps' # string\n",
    "a = False # boolean"
   ]
  },
  {
   "cell_type": "markdown",
   "metadata": {},
   "source": [
    "To check the datatype of a variable, use the built-in function 'type'"
   ]
  },
  {
   "cell_type": "code",
   "execution_count": 50,
   "metadata": {},
   "outputs": [
    {
     "data": {
      "text/plain": [
       "bool"
      ]
     },
     "execution_count": 50,
     "metadata": {},
     "output_type": "execute_result"
    }
   ],
   "source": [
    "type(a)"
   ]
  },
  {
   "cell_type": "markdown",
   "metadata": {},
   "source": [
    "If applicable, you can convert one datatype to another!\n",
    "- numbers can be turned into strings, int/float, or boolean\n",
    "- boolean can be turned into int/float or strings"
   ]
  },
  {
   "cell_type": "code",
   "execution_count": 12,
   "metadata": {},
   "outputs": [
    {
     "data": {
      "text/plain": [
       "'2.54'"
      ]
     },
     "execution_count": 12,
     "metadata": {},
     "output_type": "execute_result"
    }
   ],
   "source": [
    "str(2.54) # float to str"
   ]
  },
  {
   "cell_type": "code",
   "execution_count": 13,
   "metadata": {},
   "outputs": [
    {
     "data": {
      "text/plain": [
       "True"
      ]
     },
     "execution_count": 13,
     "metadata": {},
     "output_type": "execute_result"
    }
   ],
   "source": [
    "bool(2.54) #float to boolean"
   ]
  },
  {
   "cell_type": "code",
   "execution_count": 14,
   "metadata": {},
   "outputs": [
    {
     "data": {
      "text/plain": [
       "'False'"
      ]
     },
     "execution_count": 14,
     "metadata": {},
     "output_type": "execute_result"
    }
   ],
   "source": [
    "str(False) #boolean to string"
   ]
  },
  {
   "cell_type": "code",
   "execution_count": 15,
   "metadata": {},
   "outputs": [
    {
     "data": {
      "text/plain": [
       "0"
      ]
     },
     "execution_count": 15,
     "metadata": {},
     "output_type": "execute_result"
    }
   ],
   "source": [
    "int(False) #boolean to int"
   ]
  },
  {
   "cell_type": "markdown",
   "metadata": {},
   "source": [
    "### Variable Operations"
   ]
  },
  {
   "cell_type": "code",
   "execution_count": 16,
   "metadata": {},
   "outputs": [
    {
     "name": "stdout",
     "output_type": "stream",
     "text": [
      "3\n",
      "1\n",
      "1.0\n",
      "4\n",
      "4\n"
     ]
    }
   ],
   "source": [
    "print(1+2) # addition\n",
    "print(2-1) # subtraction\n",
    "print(2/2) # division\n",
    "print(2*2) #multiplication\n",
    "print(2**2) #square"
   ]
  },
  {
   "cell_type": "markdown",
   "metadata": {},
   "source": [
    "You can also add strings!"
   ]
  },
  {
   "cell_type": "code",
   "execution_count": 17,
   "metadata": {},
   "outputs": [
    {
     "name": "stdout",
     "output_type": "stream",
     "text": [
      "Python is cool!\n"
     ]
    }
   ],
   "source": [
    "print(\"Python\" + \" is cool!\")"
   ]
  },
  {
   "cell_type": "markdown",
   "metadata": {},
   "source": [
    "## Data Structures"
   ]
  },
  {
   "cell_type": "markdown",
   "metadata": {},
   "source": [
    "Python has its built-in data structures that can arrange your values/variables into groups. These are:\n",
    "1. Lists - a dynamic array\n",
    "2. Dictionaries - a table of keys and values"
   ]
  },
  {
   "cell_type": "markdown",
   "metadata": {},
   "source": [
    "### Lists"
   ]
  },
  {
   "cell_type": "markdown",
   "metadata": {},
   "source": [
    "Lists can store anything!"
   ]
  },
  {
   "cell_type": "code",
   "execution_count": 52,
   "metadata": {},
   "outputs": [],
   "source": [
    "a = [1,2,3,4,5] # numbers (int/float)\n",
    "b = ['a', 'b', 'c'] # str\n",
    "c = [False, False, True] # boolean\n",
    "d = [1,'apple',True] # combination"
   ]
  },
  {
   "cell_type": "code",
   "execution_count": 56,
   "metadata": {},
   "outputs": [
    {
     "data": {
      "text/plain": [
       "[1, 'apple', True]"
      ]
     },
     "execution_count": 56,
     "metadata": {},
     "output_type": "execute_result"
    }
   ],
   "source": [
    "d"
   ]
  },
  {
   "cell_type": "markdown",
   "metadata": {},
   "source": [
    "To see how many items there are in a list, use **len**:"
   ]
  },
  {
   "cell_type": "code",
   "execution_count": 20,
   "metadata": {},
   "outputs": [
    {
     "name": "stdout",
     "output_type": "stream",
     "text": [
      "5\n",
      "3\n"
     ]
    }
   ],
   "source": [
    "print(len(a))\n",
    "print(len(b))"
   ]
  },
  {
   "cell_type": "markdown",
   "metadata": {},
   "source": [
    "To call any element in the list:"
   ]
  },
  {
   "cell_type": "code",
   "execution_count": 21,
   "metadata": {},
   "outputs": [
    {
     "name": "stdout",
     "output_type": "stream",
     "text": [
      "5\n",
      "2\n"
     ]
    }
   ],
   "source": [
    "print(a[4])\n",
    "print(a[1])"
   ]
  },
  {
   "cell_type": "markdown",
   "metadata": {},
   "source": [
    "You can also add more things in the list using list.**append**:"
   ]
  },
  {
   "cell_type": "code",
   "execution_count": 57,
   "metadata": {},
   "outputs": [
    {
     "name": "stdout",
     "output_type": "stream",
     "text": [
      "['a', 'b', 'c', 'd']\n"
     ]
    }
   ],
   "source": [
    "b.append('d')\n",
    "print(b)"
   ]
  },
  {
   "cell_type": "markdown",
   "metadata": {},
   "source": [
    "To remove an element, use list.**remove**:"
   ]
  },
  {
   "cell_type": "code",
   "execution_count": 58,
   "metadata": {},
   "outputs": [
    {
     "name": "stdout",
     "output_type": "stream",
     "text": [
      "['b', 'c', 'd']\n"
     ]
    }
   ],
   "source": [
    "b.remove('a')\n",
    "print(b)"
   ]
  },
  {
   "cell_type": "markdown",
   "metadata": {},
   "source": [
    "You can also sort the values by order using list.**sort**!"
   ]
  },
  {
   "cell_type": "code",
   "execution_count": 59,
   "metadata": {},
   "outputs": [
    {
     "name": "stdout",
     "output_type": "stream",
     "text": [
      "['b', 'c', 'd', 'a']\n"
     ]
    }
   ],
   "source": [
    "b.append('a')\n",
    "print(b)"
   ]
  },
  {
   "cell_type": "code",
   "execution_count": 60,
   "metadata": {},
   "outputs": [
    {
     "name": "stdout",
     "output_type": "stream",
     "text": [
      "['a', 'b', 'c', 'd']\n"
     ]
    }
   ],
   "source": [
    "b.sort()\n",
    "print(b)"
   ]
  },
  {
   "cell_type": "markdown",
   "metadata": {},
   "source": [
    "The list data structure has more built-in functions you can look into if you want to optimize your code."
   ]
  },
  {
   "cell_type": "markdown",
   "metadata": {},
   "source": [
    "### Dictionaries"
   ]
  },
  {
   "cell_type": "markdown",
   "metadata": {},
   "source": [
    "Dictionaries take in values and assign to them keys!"
   ]
  },
  {
   "cell_type": "code",
   "execution_count": 26,
   "metadata": {},
   "outputs": [],
   "source": [
    "dict_a = {} # empty dictionary\n",
    "dict_b = {'a': 1, 'b': 'dogs', 'c': False, 'd': [1,2,3,4]} # dictionaries can store anything!\n",
    "dict_c = {1.0: 'ant', 2: 'hogs'} # numbers can also be keys"
   ]
  },
  {
   "cell_type": "markdown",
   "metadata": {},
   "source": [
    "To call on a value, just use the key assigned to it:"
   ]
  },
  {
   "cell_type": "code",
   "execution_count": 61,
   "metadata": {},
   "outputs": [
    {
     "name": "stdout",
     "output_type": "stream",
     "text": [
      "1\n",
      "hogs\n"
     ]
    }
   ],
   "source": [
    "print(dict_b['a'])\n",
    "print(dict_c[2])"
   ]
  },
  {
   "cell_type": "markdown",
   "metadata": {},
   "source": [
    "If you forget what keys are in the dictionary:"
   ]
  },
  {
   "cell_type": "code",
   "execution_count": 62,
   "metadata": {},
   "outputs": [
    {
     "data": {
      "text/plain": [
       "dict_keys(['a', 'b', 'c', 'd'])"
      ]
     },
     "execution_count": 62,
     "metadata": {},
     "output_type": "execute_result"
    }
   ],
   "source": [
    "dict_b.keys()"
   ]
  },
  {
   "cell_type": "markdown",
   "metadata": {},
   "source": [
    "To add items:"
   ]
  },
  {
   "cell_type": "code",
   "execution_count": 64,
   "metadata": {},
   "outputs": [
    {
     "name": "stdout",
     "output_type": "stream",
     "text": [
      "{2: 'cats', 3: 'chickens', 1: 'dogs'}\n"
     ]
    }
   ],
   "source": [
    "dict_a[1] = 'dogs'\n",
    "dict_a[2] = 'cats'\n",
    "dict_a[3] = 'chickens'\n",
    "\n",
    "print(dict_a)"
   ]
  },
  {
   "cell_type": "markdown",
   "metadata": {},
   "source": [
    "To delete items:"
   ]
  },
  {
   "cell_type": "code",
   "execution_count": 65,
   "metadata": {},
   "outputs": [
    {
     "name": "stdout",
     "output_type": "stream",
     "text": [
      "{2: 'cats', 3: 'chickens'}\n"
     ]
    }
   ],
   "source": [
    "del dict_a[1]\n",
    "print(dict_a)"
   ]
  },
  {
   "cell_type": "markdown",
   "metadata": {},
   "source": [
    "### Tuples"
   ]
  },
  {
   "cell_type": "markdown",
   "metadata": {},
   "source": [
    "These are like lists, in that you call their elements using the same index notation; however, unlike lists, you cannot change their contents."
   ]
  },
  {
   "cell_type": "code",
   "execution_count": 135,
   "metadata": {},
   "outputs": [],
   "source": [
    "a = (1,2,3) #example of a tuple\n",
    "b = (i for i in range(10)) #using list comprehension conventions to make a tuple"
   ]
  },
  {
   "cell_type": "markdown",
   "metadata": {},
   "source": [
    "## Boolean Expressions"
   ]
  },
  {
   "cell_type": "markdown",
   "metadata": {},
   "source": [
    "These are statements that output a True or False"
   ]
  },
  {
   "cell_type": "code",
   "execution_count": 67,
   "metadata": {},
   "outputs": [],
   "source": [
    "a = 5>7 \n",
    "b = 3<4\n",
    "c = 2 != 1\n",
    "d = 5 == 5\n",
    "e = 3\n",
    "f = 2 in [1,2,3,4] # check if 2 is in the list\n",
    "g = 'a' in 'lap' # checks if a is in lap\n",
    "h = 3 not in dict_a # checks if 3 is not in the keys of dict_a"
   ]
  },
  {
   "cell_type": "markdown",
   "metadata": {},
   "source": [
    "and/or statements take in two boolean statements and output a boolean value.\n",
    "- **and** will output True only if both statements are True. Else, it will output a False\n",
    "- **or** will output a True as long as any of the statement is True.\n",
    "\n"
   ]
  },
  {
   "cell_type": "code",
   "execution_count": 76,
   "metadata": {},
   "outputs": [],
   "source": [
    "i = True and True # True\n",
    "j = True and False # False\n",
    "k = False or True # True\n",
    "l = False or False # False"
   ]
  },
  {
   "cell_type": "code",
   "execution_count": 80,
   "metadata": {},
   "outputs": [
    {
     "data": {
      "text/plain": [
       "False"
      ]
     },
     "execution_count": 80,
     "metadata": {},
     "output_type": "execute_result"
    }
   ],
   "source": [
    "l"
   ]
  },
  {
   "cell_type": "markdown",
   "metadata": {},
   "source": [
    "## Conditional Statements"
   ]
  },
  {
   "cell_type": "markdown",
   "metadata": {},
   "source": [
    "These are statements that evaluate given conditions and change how your program behaves. Combine these with the boolean statements above!\n",
    "\n",
    "There are three types of conditional statements:\n",
    "1. if\n",
    "2. if-else\n",
    "3. if-elif-else"
   ]
  },
  {
   "cell_type": "markdown",
   "metadata": {},
   "source": [
    "### If \n",
    "\n",
    "This will run a procedure if a condition is fulfilled. Change the variable below to see how this script behaves!"
   ]
  },
  {
   "cell_type": "code",
   "execution_count": 144,
   "metadata": {},
   "outputs": [],
   "source": [
    "a = 5\n",
    "if a > 7:\n",
    "    print(\"{} is greater than 7\".format(a))"
   ]
  },
  {
   "cell_type": "markdown",
   "metadata": {},
   "source": [
    "### If-Else\n",
    "\n",
    "Like the if statement, this will run a procedure if a condition is fulfilled. In the case the condition is False, the script will default to the process under the else statement."
   ]
  },
  {
   "cell_type": "code",
   "execution_count": 146,
   "metadata": {},
   "outputs": [
    {
     "name": "stdout",
     "output_type": "stream",
     "text": [
      "10 is greater than 7\n"
     ]
    }
   ],
   "source": [
    "a = 10\n",
    "if a > 7:\n",
    "    print(\"{} is greater than 7\".format(a))\n",
    "else:\n",
    "    print(\"{} is less than 7\".format(a))"
   ]
  },
  {
   "cell_type": "markdown",
   "metadata": {},
   "source": [
    "### If-elif-else\n",
    "\n",
    "This accepts a set of conditions! If the first statement is True, this will run a procedure if a condition is fulfilled. Else, it will evaluate the second condition and so on and so forth until it either finds a True condition or it runs out of conditions. In which case, it will default to the procedure under else."
   ]
  },
  {
   "cell_type": "code",
   "execution_count": 147,
   "metadata": {},
   "outputs": [
    {
     "name": "stdout",
     "output_type": "stream",
     "text": [
      "10 has a really low value\n"
     ]
    }
   ],
   "source": [
    "a = 10\n",
    "if a > 30:\n",
    "    print(\"{} is greater than 30\".format(a))\n",
    "elif a > 20:\n",
    "    print(\"{} is between 31 and 20\".format(a))\n",
    "else:\n",
    "    print(\"{} has a really low value\".format(a))"
   ]
  },
  {
   "cell_type": "markdown",
   "metadata": {},
   "source": [
    "In summary, if checks the primary condition, elif adds more conditions to be checked, and else is the default process if no condition is satisfied."
   ]
  },
  {
   "cell_type": "markdown",
   "metadata": {},
   "source": [
    "## Loops"
   ]
  },
  {
   "cell_type": "markdown",
   "metadata": {},
   "source": [
    "If you want to repeat a process automatically, use loops. There are two types:\n",
    "1. for loops\n",
    "2. while loops"
   ]
  },
  {
   "cell_type": "markdown",
   "metadata": {},
   "source": [
    "### For Loops"
   ]
  },
  {
   "cell_type": "markdown",
   "metadata": {},
   "source": [
    "These loops will go through a set group of items one by one. They're good for accessing each element of a list or dictionary."
   ]
  },
  {
   "cell_type": "code",
   "execution_count": 87,
   "metadata": {},
   "outputs": [
    {
     "name": "stdout",
     "output_type": "stream",
     "text": [
      "Number 1\n",
      "Number 2\n",
      "Number 3\n",
      "Number 4\n",
      "Number 5\n"
     ]
    }
   ],
   "source": [
    "a = [1,2,3,4,5]\n",
    "\n",
    "for j in a:\n",
    "    print(\"Number \" + str(j))"
   ]
  },
  {
   "cell_type": "markdown",
   "metadata": {},
   "source": [
    "You can also achieve the same effect using the built-in function range()!"
   ]
  },
  {
   "cell_type": "code",
   "execution_count": 88,
   "metadata": {},
   "outputs": [
    {
     "name": "stdout",
     "output_type": "stream",
     "text": [
      "Number 1\n",
      "Number 2\n",
      "Number 3\n",
      "Number 4\n",
      "Number 5\n"
     ]
    }
   ],
   "source": [
    "for i in range(1,6):\n",
    "    print(\"Number \" + str(i))"
   ]
  },
  {
   "cell_type": "markdown",
   "metadata": {},
   "source": [
    "Quick note: range() generates ordered integers for you! \n",
    "- range(1,10) -> 1,2,3,4,5,6,7,8,9\n",
    "- range(5) -> 0,1,2,3,4\n",
    "\n",
    "Notice that range() stops before the last number you give it!"
   ]
  },
  {
   "cell_type": "markdown",
   "metadata": {},
   "source": [
    "If you loop through a dictionary, you will actually be accessing the keys instead of the values inside."
   ]
  },
  {
   "cell_type": "code",
   "execution_count": 89,
   "metadata": {},
   "outputs": [
    {
     "name": "stdout",
     "output_type": "stream",
     "text": [
      "a\n",
      "b\n",
      "c\n",
      "d\n"
     ]
    }
   ],
   "source": [
    "for i in dict_b:\n",
    "    print(i)"
   ]
  },
  {
   "cell_type": "markdown",
   "metadata": {},
   "source": [
    "To get the value of the dictionary itself:"
   ]
  },
  {
   "cell_type": "code",
   "execution_count": 41,
   "metadata": {},
   "outputs": [
    {
     "name": "stdout",
     "output_type": "stream",
     "text": [
      "1\n",
      "dogs\n",
      "False\n",
      "[1, 2, 3, 4]\n"
     ]
    }
   ],
   "source": [
    "for i in dict_b:\n",
    "    print(dict_b[i])"
   ]
  },
  {
   "cell_type": "markdown",
   "metadata": {},
   "source": [
    "### While Loops"
   ]
  },
  {
   "cell_type": "markdown",
   "metadata": {},
   "source": [
    "These will keep running until a certain condition is met. Good to use when you don't know how many times you want something to loop.\n",
    "\n",
    "Note: be careful not to make an infinity loop! Your laptop might crash."
   ]
  },
  {
   "cell_type": "code",
   "execution_count": 90,
   "metadata": {},
   "outputs": [
    {
     "name": "stdout",
     "output_type": "stream",
     "text": [
      "1\n",
      "2\n",
      "3\n",
      "4\n",
      "5\n",
      "6\n",
      "7\n",
      "8\n",
      "9\n",
      "10\n"
     ]
    }
   ],
   "source": [
    "a= 0\n",
    "while (a < 10):\n",
    "    a+=1\n",
    "    print(a)"
   ]
  },
  {
   "cell_type": "code",
   "execution_count": null,
   "metadata": {},
   "outputs": [],
   "source": [
    "while (a < len(files)):\n",
    "    a+=1\n",
    "    access_file()"
   ]
  },
  {
   "cell_type": "markdown",
   "metadata": {},
   "source": [
    "### Bonus: List comprehensions\n",
    "\n",
    "This is a concise way of making a list! Put a loop inside a list bracket to generate your elements."
   ]
  },
  {
   "cell_type": "markdown",
   "metadata": {},
   "source": [
    "Instead of doing this:"
   ]
  },
  {
   "cell_type": "code",
   "execution_count": 91,
   "metadata": {},
   "outputs": [],
   "source": [
    "a = []\n",
    "for i in range(10):\n",
    "    a.append(i)"
   ]
  },
  {
   "cell_type": "markdown",
   "metadata": {},
   "source": [
    "You can just do this instead:"
   ]
  },
  {
   "cell_type": "code",
   "execution_count": 92,
   "metadata": {},
   "outputs": [],
   "source": [
    "b = [i for i in range(10)]"
   ]
  },
  {
   "cell_type": "markdown",
   "metadata": {},
   "source": [
    "Both will output the same thing:"
   ]
  },
  {
   "cell_type": "code",
   "execution_count": 46,
   "metadata": {},
   "outputs": [
    {
     "name": "stdout",
     "output_type": "stream",
     "text": [
      "[0, 1, 2, 3, 4, 5, 6, 7, 8, 9]\n",
      "[0, 1, 2, 3, 4, 5, 6, 7, 8, 9]\n"
     ]
    }
   ],
   "source": [
    "print(a)\n",
    "print(b)"
   ]
  },
  {
   "cell_type": "markdown",
   "metadata": {},
   "source": [
    "## Functions"
   ]
  },
  {
   "cell_type": "markdown",
   "metadata": {},
   "source": [
    "If you have lines of code that you keep reusing, functions are a great way to package them!\n",
    "\n",
    "Let's try to turn one of the if-else statements above into a function:"
   ]
  },
  {
   "cell_type": "code",
   "execution_count": 149,
   "metadata": {},
   "outputs": [
    {
     "name": "stdout",
     "output_type": "stream",
     "text": [
      "10 has a really low value\n",
      "100 is greater than 30\n"
     ]
    }
   ],
   "source": [
    "def myFunction(b): #name of the function (variable a, variable b, etc etc)\n",
    "    if b > 30:\n",
    "        print(str(b) + \" is greater than 30\")\n",
    "    elif b >20 and b<30:\n",
    "        print (str(b) + \" is in between 20 and 30\")\n",
    "    else:\n",
    "        print(str(b) + \" has a really low value\")\n",
    "\n",
    "myFunction(10)\n",
    "myFunction(100)"
   ]
  },
  {
   "cell_type": "markdown",
   "metadata": {},
   "source": [
    "The above function will print a statement, but will not return a value. If you wish your function to spit out a value for you to use in another procedure, put a return statement at the bottom of the function:"
   ]
  },
  {
   "cell_type": "code",
   "execution_count": 148,
   "metadata": {},
   "outputs": [
    {
     "name": "stdout",
     "output_type": "stream",
     "text": [
      "8000\n"
     ]
    }
   ],
   "source": [
    "def function2(a,b):\n",
    "    #a is an integer\n",
    "    #b is also an integer\n",
    "    return a**b\n",
    "\n",
    "a = function2(20,3)\n",
    "print(a)"
   ]
  },
  {
   "cell_type": "markdown",
   "metadata": {},
   "source": [
    "## Recommendations for Libraries"
   ]
  },
  {
   "cell_type": "markdown",
   "metadata": {},
   "source": [
    "### For data analysis\n",
    "\n",
    "1. Scikit- machine learning, statistical analysis\n",
    "2. Numpy- arrays\n",
    "3. matplotlib.pyplot- graphs\n",
    "4. pandas- DataFrames -> csv, xlsx, text files\n",
    "\n",
    "### For map/raster-specific functions\n",
    "\n",
    "1. rasterio\n",
    "2. basemap\n",
    "3. cartopy\n",
    "4. GeoPandas\n",
    "5. skimage\n"
   ]
  }
 ],
 "metadata": {
  "kernelspec": {
   "display_name": "Python [conda env:MapStuff]",
   "language": "python",
   "name": "conda-env-MapStuff-py"
  },
  "language_info": {
   "codemirror_mode": {
    "name": "ipython",
    "version": 3
   },
   "file_extension": ".py",
   "mimetype": "text/x-python",
   "name": "python",
   "nbconvert_exporter": "python",
   "pygments_lexer": "ipython3",
   "version": "3.6.5"
  }
 },
 "nbformat": 4,
 "nbformat_minor": 2
}
